{
 "cells": [
  {
   "cell_type": "code",
   "execution_count": 1,
   "metadata": {},
   "outputs": [],
   "source": [
    "import pandas as pd\n",
    "import requests\n",
    "from bs4 import BeautifulSoup\n",
    "import time\n",
    "import numpy"
   ]
  },
  {
   "cell_type": "code",
   "execution_count": 2,
   "metadata": {},
   "outputs": [],
   "source": [
    "url = 'https://scholar.google.com/citations?view_op=view_org&hl=en&org=3058261575686183734'\n",
    "def get_html_page(url):\n",
    "    page=requests.get(url)\n",
    "    return page"
   ]
  },
  {
   "cell_type": "code",
   "execution_count": 3,
   "metadata": {},
   "outputs": [],
   "source": [
    "\n",
    "def get_lecturer_details(html_object):\n",
    "    \n",
    "    soup=BeautifulSoup(html_object.text,'html.parser')\n",
    "    nameLink=soup.find_all('h3',{\"class\":\"gs_ai_name\"})\n",
    "    departLink=soup.find_all('div',{\"class\":'gs_ai_aff'})\n",
    "    interestLink=soup.find_all('div',{\"class\":'gs_ai_int'})\n",
    "    citLink=soup.find_all('div',{\"class\":'gs_ai_cby'})\n",
    "    \n",
    "    depart = []\n",
    "    interest = []\n",
    "    citation = []\n",
    "    names = []\n",
    "    name_links = []\n",
    "\n",
    "    for n in nameLink:\n",
    "        names.append(n.text)\n",
    "        name_links.append('https://scholar.google.com' + n.find('a').get('href'))\n",
    "\n",
    "    for n in departLink:\n",
    "        depart.append(n.text)\n",
    "\n",
    "    for n in interestLink:\n",
    "        interest.append(n.text)\n",
    "\n",
    "    for n in citLink:\n",
    "#            citation.append(n.text.split(' ')[2])\n",
    "             citation.append(n.text)\n",
    "        \n",
    "        \n",
    "    return {'lecturer_name':names,\n",
    "            'department':depart,\n",
    "            'link':name_links,\n",
    "            'citation':citation,\n",
    "            'intrest':interest}"
   ]
  },
  {
   "cell_type": "code",
   "execution_count": 4,
   "metadata": {},
   "outputs": [],
   "source": [
    "def get_next_page_link(html_object):   \n",
    "    soup=BeautifulSoup(page.text,'html.parser')\n",
    "    item = soup.find_all('button', {'class':'gs_btnPR gs_in_ib gs_btn_half gs_btn_lsb gs_btn_srt gsc_pgn_pnx'})\n",
    "    if item != None:\n",
    "        author_id = str(item[0]).split('\\\\')[9][3:]\n",
    "        start_number = str(item[0]).split('\\\\')[11][3:].replace(\"\"\"\\'\" type=\"button\"><span class=\"gs_wr\"><span class=\"gs_ico\"></span><span class=\"gs_lbl\"></span></span></button>\"\"\",\"\")\n",
    "\n",
    "        n_url = \"\"\"https://scholar.google.com/citations?view_op=view_org&hl=en&org=3058261575686183734&after_author=\"\"\"+author_id+\"\"\"&astart=\"\"\"+start_number\n",
    "        return n_url\n",
    "    else:\n",
    "        return None"
   ]
  },
  {
   "cell_type": "code",
   "execution_count": 5,
   "metadata": {},
   "outputs": [],
   "source": [
    "# LecturerDF = pd.DataFrame({})\n",
    "# not_lastpage = True\n",
    "\n",
    "# while not_lastpage:\n",
    "#     page = get_html_page(url)\n",
    "#     LecturerDF= pd.concat([LecturerDF, pd.DataFrame(get_lecturer_details(page))],ignore_index = True, sort = False)\n",
    "#     next_url = get_next_page_link(page)\n",
    "#     if next_url == None:\n",
    "#         not_lastpage = False\n",
    "#     else:\n",
    "#         url = next_url"
   ]
  },
  {
   "cell_type": "code",
   "execution_count": 6,
   "metadata": {},
   "outputs": [],
   "source": [
    "# LecturerDF.to_excel('lectureData.xlsx')"
   ]
  },
  {
   "cell_type": "code",
   "execution_count": 7,
   "metadata": {},
   "outputs": [],
   "source": [
    "LecturerDF = pd.read_excel('lectureData.xlsx') #results from excel"
   ]
  },
  {
   "cell_type": "code",
   "execution_count": 8,
   "metadata": {},
   "outputs": [
    {
     "data": {
      "text/html": [
       "<div>\n",
       "<style scoped>\n",
       "    .dataframe tbody tr th:only-of-type {\n",
       "        vertical-align: middle;\n",
       "    }\n",
       "\n",
       "    .dataframe tbody tr th {\n",
       "        vertical-align: top;\n",
       "    }\n",
       "\n",
       "    .dataframe thead th {\n",
       "        text-align: right;\n",
       "    }\n",
       "</style>\n",
       "<table border=\"1\" class=\"dataframe\">\n",
       "  <thead>\n",
       "    <tr style=\"text-align: right;\">\n",
       "      <th></th>\n",
       "      <th>lecturer_name</th>\n",
       "      <th>department</th>\n",
       "      <th>link</th>\n",
       "      <th>citation</th>\n",
       "      <th>intrest</th>\n",
       "    </tr>\n",
       "  </thead>\n",
       "  <tbody>\n",
       "    <tr>\n",
       "      <th>0</th>\n",
       "      <td>Chabila C. Mapoma</td>\n",
       "      <td>Dr. of Demography, University of Zambia</td>\n",
       "      <td>https://scholar.google.com/citations?hl=en&amp;use...</td>\n",
       "      <td>Cited by 10107</td>\n",
       "      <td>Population Demography Health</td>\n",
       "    </tr>\n",
       "    <tr>\n",
       "      <th>1</th>\n",
       "      <td>Robert Serpell</td>\n",
       "      <td>Profesor of Psychology, University of Zambia</td>\n",
       "      <td>https://scholar.google.com/citations?hl=en&amp;use...</td>\n",
       "      <td>Cited by 4353</td>\n",
       "      <td>cultural psychology child development intellig...</td>\n",
       "    </tr>\n",
       "    <tr>\n",
       "      <th>2</th>\n",
       "      <td>Isaac Phiri</td>\n",
       "      <td>Professor of Veterinary medicine and Parasite ...</td>\n",
       "      <td>https://scholar.google.com/citations?hl=en&amp;use...</td>\n",
       "      <td>Cited by 2489</td>\n",
       "      <td>Parasitology Veterinary medicine Parasite immu...</td>\n",
       "    </tr>\n",
       "    <tr>\n",
       "      <th>3</th>\n",
       "      <td>Muma John</td>\n",
       "      <td>The University of Zambia</td>\n",
       "      <td>https://scholar.google.com/citations?hl=en&amp;use...</td>\n",
       "      <td>Cited by 1885</td>\n",
       "      <td>Food Safety Antimicrobial Resistance Zoonoses</td>\n",
       "    </tr>\n",
       "    <tr>\n",
       "      <th>4</th>\n",
       "      <td>Namangala Boniface</td>\n",
       "      <td>Professor of Microbiology/Immunology, Universi...</td>\n",
       "      <td>https://scholar.google.com/citations?hl=en&amp;use...</td>\n",
       "      <td>Cited by 1170</td>\n",
       "      <td>Neglected tropical diseases Emerging and re-em...</td>\n",
       "    </tr>\n",
       "    <tr>\n",
       "      <th>5</th>\n",
       "      <td>Macwan'gi Mubiana</td>\n",
       "      <td>Institute of Economic and Social Research, Uni...</td>\n",
       "      <td>https://scholar.google.com/citations?hl=en&amp;use...</td>\n",
       "      <td>Cited by 1075</td>\n",
       "      <td>Communication and Behavior Change Maternal and...</td>\n",
       "    </tr>\n",
       "    <tr>\n",
       "      <th>6</th>\n",
       "      <td>MUSSO MUNYEME</td>\n",
       "      <td>THE UNIVERSITY OF ZAMBIA, SCHOOL OF VETERINARY...</td>\n",
       "      <td>https://scholar.google.com/citations?hl=en&amp;use...</td>\n",
       "      <td>Cited by 999</td>\n",
       "      <td>Veterinary Public Health</td>\n",
       "    </tr>\n",
       "    <tr>\n",
       "      <th>7</th>\n",
       "      <td>simuunza Martin</td>\n",
       "      <td>University of Zambia</td>\n",
       "      <td>https://scholar.google.com/citations?hl=en&amp;use...</td>\n",
       "      <td>Cited by 837</td>\n",
       "      <td>Epidemiology parasitology population genetics ...</td>\n",
       "    </tr>\n",
       "  </tbody>\n",
       "</table>\n",
       "</div>"
      ],
      "text/plain": [
       "        lecturer_name                                         department  \\\n",
       "0   Chabila C. Mapoma            Dr. of Demography, University of Zambia   \n",
       "1      Robert Serpell       Profesor of Psychology, University of Zambia   \n",
       "2         Isaac Phiri  Professor of Veterinary medicine and Parasite ...   \n",
       "3           Muma John                           The University of Zambia   \n",
       "4  Namangala Boniface  Professor of Microbiology/Immunology, Universi...   \n",
       "5   Macwan'gi Mubiana  Institute of Economic and Social Research, Uni...   \n",
       "6       MUSSO MUNYEME  THE UNIVERSITY OF ZAMBIA, SCHOOL OF VETERINARY...   \n",
       "7     simuunza Martin                               University of Zambia   \n",
       "\n",
       "                                                link        citation  \\\n",
       "0  https://scholar.google.com/citations?hl=en&use...  Cited by 10107   \n",
       "1  https://scholar.google.com/citations?hl=en&use...   Cited by 4353   \n",
       "2  https://scholar.google.com/citations?hl=en&use...   Cited by 2489   \n",
       "3  https://scholar.google.com/citations?hl=en&use...   Cited by 1885   \n",
       "4  https://scholar.google.com/citations?hl=en&use...   Cited by 1170   \n",
       "5  https://scholar.google.com/citations?hl=en&use...   Cited by 1075   \n",
       "6  https://scholar.google.com/citations?hl=en&use...    Cited by 999   \n",
       "7  https://scholar.google.com/citations?hl=en&use...    Cited by 837   \n",
       "\n",
       "                                             intrest  \n",
       "0                      Population Demography Health   \n",
       "1  cultural psychology child development intellig...  \n",
       "2  Parasitology Veterinary medicine Parasite immu...  \n",
       "3     Food Safety Antimicrobial Resistance Zoonoses   \n",
       "4  Neglected tropical diseases Emerging and re-em...  \n",
       "5  Communication and Behavior Change Maternal and...  \n",
       "6                          Veterinary Public Health   \n",
       "7  Epidemiology parasitology population genetics ...  "
      ]
     },
     "execution_count": 8,
     "metadata": {},
     "output_type": "execute_result"
    }
   ],
   "source": [
    "LecturerDF.head(8)"
   ]
  },
  {
   "cell_type": "code",
   "execution_count": 9,
   "metadata": {},
   "outputs": [],
   "source": [
    "link =list(LecturerDF.link)"
   ]
  },
  {
   "cell_type": "code",
   "execution_count": 10,
   "metadata": {},
   "outputs": [
    {
     "data": {
      "text/plain": [
       "['https://scholar.google.com/citations?hl=en&user=4wnEDPMAAAAJ',\n",
       " 'https://scholar.google.com/citations?hl=en&user=fP4IhsgAAAAJ']"
      ]
     },
     "execution_count": 10,
     "metadata": {},
     "output_type": "execute_result"
    }
   ],
   "source": [
    "link[:2]"
   ]
  },
  {
   "cell_type": "code",
   "execution_count": null,
   "metadata": {},
   "outputs": [],
   "source": []
  },
  {
   "cell_type": "code",
   "execution_count": 11,
   "metadata": {},
   "outputs": [],
   "source": [
    "def get_articles(author_links_list):\n",
    "    author_name = []\n",
    "    article_links = []\n",
    "    article_title= []\n",
    "    publis_date = []\n",
    "    article_descrip = []\n",
    "    \n",
    "    for link in author_links_list:\n",
    "        page = get_html_page(link)\n",
    "        soup_object =BeautifulSoup(page.text,'html.parser')\n",
    "        \n",
    "        for item in soup_object.find_all('a', {'class': 'gsc_a_at'}):\n",
    "            temp_link = 'https://scholar.google.com' + item['data-href']\n",
    "            time.sleep(10)\n",
    "            page_a_link = get_html_page(temp_link)\n",
    "            soupA =BeautifulSoup(page_a_link.text,'html.parser')\n",
    "            \n",
    "            temp_descipt = ''\n",
    "            for item in soupA.find_all('div', {'class':'gsh_csp'}):\n",
    "                temp_descipt += (item.text + ' ')\n",
    "                \n",
    "            article_descrip.append(temp_descipt)\n",
    "            article_links.append(temp_link)\n",
    "            article_title.append(item.text)\n",
    "            print(1)\n",
    "           \n",
    "            \n",
    "        for item in soup_object.find_all('span', {'class': 'gsc_a_h gsc_a_hc gs_ibl'}):\n",
    "            publis_date.append(item.text)\n",
    "            \n",
    "            author_name.append(soup_object.find('div', {'id': 'gsc_prf_in'}))\n",
    "        \n",
    "        print(link)\n",
    "        \n",
    "    return {\n",
    "        'Author_name': author_name,\n",
    "        'Article_title':article_title,\n",
    "        'Publish_date': publis_date,\n",
    "        'Article_descrip': article_descrip,\n",
    "        'Article_links':article_links\n",
    "    }"
   ]
  },
  {
   "cell_type": "code",
   "execution_count": null,
   "metadata": {},
   "outputs": [
    {
     "name": "stdout",
     "output_type": "stream",
     "text": [
      "1\n",
      "1\n",
      "1\n",
      "1\n",
      "1\n",
      "1\n",
      "1\n",
      "1\n",
      "1\n",
      "1\n",
      "1\n",
      "1\n",
      "1\n",
      "1\n",
      "1\n",
      "1\n",
      "1\n",
      "1\n",
      "1\n",
      "1\n",
      "https://scholar.google.com/citations?hl=en&user=fP4IhsgAAAAJ\n",
      "1\n",
      "1\n",
      "1\n",
      "1\n",
      "1\n"
     ]
    }
   ],
   "source": [
    "articles_ = get_articles(link[1:290])"
   ]
  },
  {
   "cell_type": "code",
   "execution_count": null,
   "metadata": {},
   "outputs": [],
   "source": [
    "df = pd.DataFrame(articles_)"
   ]
  },
  {
   "cell_type": "code",
   "execution_count": null,
   "metadata": {},
   "outputs": [],
   "source": []
  },
  {
   "cell_type": "code",
   "execution_count": null,
   "metadata": {},
   "outputs": [],
   "source": []
  }
 ],
 "metadata": {
  "kernelspec": {
   "display_name": "Python 3",
   "language": "python",
   "name": "python3"
  },
  "language_info": {
   "codemirror_mode": {
    "name": "ipython",
    "version": 3
   },
   "file_extension": ".py",
   "mimetype": "text/x-python",
   "name": "python",
   "nbconvert_exporter": "python",
   "pygments_lexer": "ipython3",
   "version": "3.7.2"
  }
 },
 "nbformat": 4,
 "nbformat_minor": 2
}
